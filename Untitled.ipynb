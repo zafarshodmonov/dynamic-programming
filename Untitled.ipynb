{
 "cells": [
  {
   "cell_type": "markdown",
   "id": "18ca421c-6e6c-4b70-abc1-39c4d776574a",
   "metadata": {},
   "source": [
    "Dynamic Programming (DP) is a method for solving complex problems by breaking them down into simpler overlapping subproblems and solving each subproblem only once, storing the solutions to avoid redundant computations. It's particularly useful for optimization problems where you seek the best solution among many possible solutions.\r\n",
    "\r\n",
    "The basic idea of DP involves solving and storing the solutions to subproblems in a table or memoization array. This way, when the same subproblem needs to be solved again, the precomputed solution can be used, saving time and resources.\r\n",
    "\r\n",
    "Here is a step-by-step explanation of Dynamic Programming:\r\n",
    "\r\n",
    "1. **Define the Problem**: Clearly define the problem you're trying to solve and identify its optimal substructure. This means that the optimal solution to the problem can be constructed from the optimal solutions of its subproblems.\r\n",
    "\r\n",
    "2. **Formulate a Recursive Solution**: Express the solution to the problem in terms of solutions to its subproblems. This often involves defining a recursive function.\r\n",
    "\r\n",
    "3. **Identify Overlapping Subproblems**: Determine if the problem can be broken down into smaller subproblems that are solved independently, but where solutions to some subproblems are reused multiple times.\r\n",
    "\r\n",
    "4. **Memoization or Tabulation**: Choose between memoization and tabulation to store the solutions to subproblems. Memoization involves storing the solutions of subproblems in a data structure like a dictionary, while tabulation involves filling up a table iteratively.\r\n",
    "\r\n",
    "   - **Memoization Example**:\r\n",
    "     ```python\r\n",
    "     memo = {}\r\n",
    "     \r\n",
    "     def fib(n):\r\n",
    "         if n in memo:\r\n",
    "             return memo[n]\r\n",
    "         if n <= 1:\r\n",
    "             return n\r\n",
    "         memo[n] = fib(n-1) + fib(n-2)\r\n",
    "         return memo[n]\r\n",
    "     ```\r\n",
    "\r\n",
    "   - **Tabulation Example**:\r\n",
    "     ```python\r\n",
    "     def fib(n):\r\n",
    "         table = [0] * (n+1)\r\n",
    "         table[1] = 1\r\n",
    "         for i in range(2, n+1):\r\n",
    "             table[i] = table[i-1] + table[i-2]\r\n",
    "         return table[n]\r\n",
    "     ```\r\n",
    "\r\n",
    "5. **Define the Base Cases**: Clearly specify the base cases of the recursive solution, which are the simplest instances of the problem that can be solved directly.\r\n",
    "\r\n",
    "6. **Optimal Solution Reconstruction (Optional)**: If needed, you can reconstruct the optimal solution using the stored solutions.\r\n",
    "\r\n",
    "Dynamic Programming is widely used in various algorithms and problems, such as the classic Fibonacci sequence, shortest path problems, and optimization problems like the knapsack problem. The key is to break down the problem into smaller subproblems and efficiently solve and store their solutions to avoid redundant calculations."
   ]
  },
  {
   "cell_type": "markdown",
   "id": "d4b86f7e-94e7-4968-a8c5-7e43de30095b",
   "metadata": {},
   "source": [
    "Dinamik dasturlash (DP) bu murakkab masalalarni bir-birining ustiga chiqadigan oddiy kichik muammolarga ajratish va har bir kichik muammoni faqat bir marta yechish, ortiqcha hisob-kitoblarni oldini olish uchun yechimlarni saqlash orqali hal qilish usulidir. Bu, ayniqsa, ko'plab mumkin bo'lgan echimlar orasidan eng yaxshi yechimni qidiradigan optimallashtirish muammolari uchun foydalidir.\r\n",
    "\r\n",
    "DPning asosiy g'oyasi jadval yoki memoizatsiya massivida kichik muammolarning echimlarini echish va saqlashni o'z ichiga oladi. Shunday qilib, xuddi shu kichik muammoni yana hal qilish kerak bo'lganda, vaqt va resurslarni tejab, oldindan hisoblangan yechimdan foydalanish mumkin.\r\n",
    "\r\n",
    "Mana dinamik dasturlashning bosqichma-bosqich tushuntirishi:\r\n",
    "\r\n",
    "1. **Muammoni aniqlang**: Siz hal qilmoqchi bo'lgan muammoni aniq belgilang va uning optimal quyi tuzilishini aniqlang. Demak, muammoning optimal yechimi uning kichik muammolarining optimal yechimlaridan tuzilishi mumkin.\r\n",
    "\r\n",
    "2. **Rekursiv yechimni shakllantirish**: Muammoning yechimini uning kichik muammolari yechimlari nuqtai nazaridan ifodalang. Bu ko'pincha rekursiv funktsiyani aniqlashni o'z ichiga oladi.\r\n",
    "\r\n",
    "3. **Bir-biriga o'xshash kichik muammolarni aniqlang**: Muammoni mustaqil hal qilinadigan kichikroq kichik muammolarga bo'lish mumkinligini aniqlang, lekin ba'zi kichik muammolarning echimlari bir necha marta qayta qo'llaniladi.\r\n",
    "\r\n",
    "4. **Yodlash yoki jadvallash**: kichik muammolar yechimlarini saqlash uchun esda saqlash va jadval tuzish o‘rtasidan tanlang. Yodlash kichik muammolar yechimlarini lug'at kabi ma'lumotlar tuzilmasida saqlashni o'z ichiga oladi, jadval tuzish esa jadvalni takroriy ravishda to'ldirishni o'z ichiga oladi.\r\n",
    "\r\n",
    "    - **Memoizatsiya misoli**:\r\n",
    "      ``` piton\r\n",
    "      eslatma = {}\r\n",
    "     \r\n",
    "      def fib(n):\r\n",
    "          agar eslatmada n bo'lsa:\r\n",
    "              eslatmani qaytarish[n]\r\n",
    "          agar n <= 1 bo'lsa:\r\n",
    "              qaytish n\r\n",
    "          memo[n] = fib(n-1) + fib(n-2)\r\n",
    "          eslatmani qaytarish[n]\r\n",
    "      ```\r\n",
    "\r\n",
    "    - **jadvalga misol**:\r\n",
    "      ``` piton\r\n",
    "      def fib(n):\r\n",
    "          jadval = [0] * (n+1)\r\n",
    "          jadval[1] = 1\r\n",
    "          diapazondagi i uchun (2, n+1):\r\n",
    "              jadval[i] = jadval[i-1] + jadval[i-2]\r\n",
    "          Qaytish jadvali[n]\r\n",
    "      ```\r\n",
    "\r\n",
    "5. **Asosiy holatlarni aniqlang**: Rekursiv yechimning to‘g‘ridan-to‘g‘ri yechilishi mumkin bo‘lgan muammoning eng oddiy misollari bo‘lgan asosiy holatlarini aniq ko‘rsating.\r\n",
    "\r\n",
    "6. **Optimal yechimni qayta tiklash (ixtiyoriy)**: Agar kerak bo'lsa, saqlangan yechimlar yordamida optimal yechimni qayta qurishingiz mumkin.\r\n",
    "\r\n",
    "Dinamik dasturlash klassik Fibonachchi ketma-ketligi, eng qisqa yo'l muammolari va sumka muammosi kabi optimallashtirish muammolari kabi turli xil algoritm va muammolarda keng qo'llaniladi. Asosiysi, muammoni kichikroq kichik muammolarga ajratish va ortiqcha hisob-kitoblarga yo'l qo'ymaslik uchun ularning echimlarini samarali hal qilish va saqlashdir."
   ]
  },
  {
   "cell_type": "code",
   "execution_count": 1,
   "id": "53f7f94b-5d7f-4e77-9179-28f3275e4a76",
   "metadata": {},
   "outputs": [
    {
     "name": "stdout",
     "output_type": "stream",
     "text": [
      "5\n",
      "4\n",
      "3\n",
      "2\n",
      "1\n",
      "0\n"
     ]
    },
    {
     "data": {
      "text/plain": [
       "5"
      ]
     },
     "execution_count": 1,
     "metadata": {},
     "output_type": "execute_result"
    }
   ],
   "source": [
    "# n --->   0 1 2 3 4 5 6 ...\n",
    "# f(n) --> 0 1 2 3 4 5 6 ...\n",
    "def f(n: int) -> int:\n",
    "    print(n)\n",
    "    if n == 0:\n",
    "        return 0\n",
    "    return f(n - 1) + 1\n",
    "\n",
    "f(5)"
   ]
  },
  {
   "cell_type": "code",
   "execution_count": 2,
   "id": "474541f9-06f1-4455-8e22-8b06f85de247",
   "metadata": {},
   "outputs": [
    {
     "name": "stdout",
     "output_type": "stream",
     "text": [
      "[0, 1, 0, 0, 0, 0]\n",
      "[0, 1, 2, 0, 0, 0]\n",
      "[0, 1, 2, 3, 0, 0]\n",
      "[0, 1, 2, 3, 4, 0]\n",
      "[0, 1, 2, 3, 4, 5]\n"
     ]
    },
    {
     "data": {
      "text/plain": [
       "5"
      ]
     },
     "execution_count": 2,
     "metadata": {},
     "output_type": "execute_result"
    }
   ],
   "source": [
    "def f(n: int) -> int:\n",
    "    dp = [0] * (n + 1)\n",
    "    # dp --> [0, 0, 0, 0, 0, 0]\n",
    "    for i in range(1, n + 1):\n",
    "        dp[i] = dp[i - 1] + 1\n",
    "        print(dp)\n",
    "    return dp[n]\n",
    "\n",
    "f(5)"
   ]
  },
  {
   "cell_type": "code",
   "execution_count": 3,
   "id": "25bfc4dc-614e-4324-8ace-bf073679f154",
   "metadata": {},
   "outputs": [
    {
     "name": "stdout",
     "output_type": "stream",
     "text": [
      "{1: 1}\n",
      "{1: 1, 2: 2}\n",
      "{1: 1, 2: 2, 3: 3}\n",
      "{1: 1, 2: 2, 3: 3, 4: 4}\n",
      "{1: 1, 2: 2, 3: 3, 4: 4, 5: 5}\n"
     ]
    },
    {
     "data": {
      "text/plain": [
       "5"
      ]
     },
     "execution_count": 3,
     "metadata": {},
     "output_type": "execute_result"
    }
   ],
   "source": [
    "def f(n: int, memo={}) -> int:\n",
    "    if n in memo:\n",
    "        return memo[n]\n",
    "    if n == 0:\n",
    "        return 0\n",
    "    memo[n] = f(n - 1, memo) + 1\n",
    "    print(memo)\n",
    "    return memo[n]\n",
    "\n",
    "f(5)"
   ]
  }
 ],
 "metadata": {
  "kernelspec": {
   "display_name": "Python 3",
   "language": "python",
   "name": "python3"
  },
  "language_info": {
   "codemirror_mode": {
    "name": "ipython",
    "version": 3
   },
   "file_extension": ".py",
   "mimetype": "text/x-python",
   "name": "python",
   "nbconvert_exporter": "python",
   "pygments_lexer": "ipython3",
   "version": "3.12.0"
  }
 },
 "nbformat": 4,
 "nbformat_minor": 5
}
